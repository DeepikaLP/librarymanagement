{
 "cells": [
  {
   "cell_type": "code",
   "execution_count": null,
   "id": "57caf7bf-0b8c-4826-97d7-c7b29be68742",
   "metadata": {},
   "outputs": [
    {
     "name": "stdout",
     "output_type": "stream",
     "text": [
      "===== Library Menu =====\n",
      "1. Add Book\n",
      "2. View Books\n",
      "3. Search Book\n",
      "4. Remove Book\n",
      "5. Exit\n"
     ]
    },
    {
     "name": "stdin",
     "output_type": "stream",
     "text": [
      "Enter your choice (1–5):  3\n",
      "enter the title or author name harrypotter\n"
     ]
    },
    {
     "name": "stdout",
     "output_type": "stream",
     "text": [
      "Book not available\n",
      "===== Library Menu =====\n",
      "1. Add Book\n",
      "2. View Books\n",
      "3. Search Book\n",
      "4. Remove Book\n",
      "5. Exit\n"
     ]
    }
   ],
   "source": [
    "#create a empty list to store\n",
    "library=[]\n",
    "#get input(books) from user \n",
    "def add_books():\n",
    "    title=input(\"enter the title :\")\n",
    "    author=input(\"enter the author name:\")\n",
    "    year=int(input(\"enter the year of the book\"))\n",
    "    book={ \"Title\":title ,\"Author\":author,\"Year\":year}\n",
    "    library.append(book)\n",
    "    print(\"Books stored sucessfully\\n\")\n",
    "def view_books():\n",
    "    if not library:\n",
    "        print(\"Not available in library\")\n",
    "    else:\n",
    "        print(\"\\n Books List\")\n",
    "#enumerate through library list\n",
    "        for index,book in enumerate(library):\n",
    "            print(f\"{index+1}.{book['Title']} by {book['Author']} ({book['Year']})\")\n",
    "        print()  \n",
    "#function to search for a book or title or author\n",
    "def search_book():\n",
    "    keyword=input(\"enter the title or author name\")\n",
    "    found =False\n",
    "    for book in library:\n",
    "        if keyword in book[\"Title\"] or keyword in book[\"Author\"]:\n",
    "            print(f\"found:{book['Title']} by {book['Author']} ({book['Year']})\")\n",
    "            found=True\n",
    "    if not found:\n",
    "         print(\"Book not available\")\n",
    "\n",
    "def remove_book():\n",
    "    title = input(\"Enter the book title to remove: \") # Take book title to remove\n",
    "\n",
    "    for book in library:\n",
    "        if title == book[\"Title\"]:\n",
    "            library.remove(book)  # Remove the matching book\n",
    "            print(\"Book removed successfully.\\n\")\n",
    "            return  # Exit the function after removal\n",
    "    \n",
    "    print(\"Book not found.\\n\")\n",
    "while True:\n",
    "    # Show menu\n",
    "    print(\"===== Library Menu =====\")\n",
    "    print(\"1. Add Book\")\n",
    "    print(\"2. View Books\")\n",
    "    print(\"3. Search Book\")\n",
    "    print(\"4. Remove Book\")\n",
    "    print(\"5. Exit\")\n",
    "\n",
    "    # Get user's choice\n",
    "    choice = input(\"Enter your choice (1–5): \")\n",
    "\n",
    "    # Call the respective function based on choice\n",
    "    if choice == '1':\n",
    "        add_books()\n",
    "    elif choice == '2':\n",
    "        view_books()\n",
    "    elif choice == '3':\n",
    "        search_book()\n",
    "    elif choice == '4':\n",
    "        remove_book()\n",
    "    elif choice == '5':\n",
    "        print(\"Exiting the program.\")\n",
    "        break  # Exit the while loop\n",
    "    else:\n",
    "        print(\"Invalid choice. Try again.\\n\")\n",
    "    \n",
    "    \n",
    "         "
   ]
  },
  {
   "cell_type": "code",
   "execution_count": null,
   "id": "0557fad5-c4c1-4d24-88c4-656aaa22869c",
   "metadata": {},
   "outputs": [],
   "source": []
  }
 ],
 "metadata": {
  "kernelspec": {
   "display_name": "Python 3 (ipykernel)",
   "language": "python",
   "name": "python3"
  },
  "language_info": {
   "codemirror_mode": {
    "name": "ipython",
    "version": 3
   },
   "file_extension": ".py",
   "mimetype": "text/x-python",
   "name": "python",
   "nbconvert_exporter": "python",
   "pygments_lexer": "ipython3",
   "version": "3.12.7"
  }
 },
 "nbformat": 4,
 "nbformat_minor": 5
}
